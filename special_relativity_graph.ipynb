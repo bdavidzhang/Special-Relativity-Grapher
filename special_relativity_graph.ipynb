{
 "cells": [
  {
   "cell_type": "markdown",
   "metadata": {
    "id": "NJqOGRnoZEoK"
   },
   "source": [
    "# Special Relativity Visualizer\n",
    "By: Albert Han, Stephen He, and David Zhang"
   ]
  },
  {
   "cell_type": "code",
   "execution_count": null,
   "metadata": {
    "id": "hwcVnmwUz3Hj"
   },
   "outputs": [],
   "source": [
    "import numpy as np\n",
    "import matplotlib.pyplot as plt\n",
    "from mpl_toolkits.mplot3d import Axes3D\n",
    "import matplotlib.animation as animation\n",
    "from IPython.display import HTML\n"
   ]
  },
  {
   "cell_type": "markdown",
   "metadata": {
    "id": "JJ2nzqr_dEU2"
   },
   "source": [
    "# 1. Setting up the simulation:\n"
   ]
  },
  {
   "cell_type": "markdown",
   "metadata": {
    "id": "5E0MTHnfebw3"
   },
   "source": [
    "### a). Simulation Class\n",
    "For this project , we will use a Simulation Class to set up everything. The simulation class will consist of objects represnted as a collection of points. We will be able to add objects at a given speed (relative to the base frame), i.e. in a certain frame, and the simulation class will tranform everything into the ground frame. Our simulation will be based in 2D, just for simplicity. We are doing this, as opposed to 1D, so we can better simulate the paradoxes."
   ]
  },
  {
   "cell_type": "markdown",
   "metadata": {
    "id": "TG2CFv59BWEE"
   },
   "source": [
    "To Initialize the class, we will have these variables\n",
    "\n",
    "```\n",
    "objects\n",
    "velocities\n",
    "frameVelocity\n",
    "events\n",
    "eventVelos\n",
    "```\n",
    "\n",
    "`objects` Is a 3D array, each entry of the array stores an object, repesented as a 2D array, where each entry is a point that specifies points in the object. For our animation, we will just linearly interpolate and connect all the points to eachother\n",
    "\n",
    "`velocities` is a 2D array, which has the same size as `objects`. Velocities stores the velocity of the object. But, you may be wondering, which frame are we measuring in? The velocity of this frame, relative to the ground frame, is stored in `frameVelocity`.\n",
    "\n",
    "`events` stores space time events, which will be plotted sepearately\n",
    "\n",
    "Finally, something to note is that we will be using natural units, where $c = 1$"
   ]
  },
  {
   "cell_type": "code",
   "execution_count": null,
   "metadata": {
    "id": "0tqwtD4d71XK"
   },
   "outputs": [],
   "source": [
    "class Simulation():\n",
    "  def __init__(self):\n",
    "    self.objects = []\n",
    "    self.velocieis = []\n",
    "    self.frameVelocity =[]\n",
    "    self.events = []\n",
    "    self.eventVelos = []\n",
    "    #Adding the origin to the simulation when we initinalize\n",
    "    self.objects.append([[0,0,0]])\n",
    "    self.velocieis.append([0,0])\n",
    "    self.frameVelocity.append([0,0])"
   ]
  },
  {
   "cell_type": "markdown",
   "metadata": {
    "id": "Mvim5leee2Aa"
   },
   "source": [
    "### b). Adding Objects\n",
    "\n",
    "Now, to add some simple objects. `addObject` is a generic class that can add any object. The other functions make it easier to add specific objects, and will ensure that they will be written in the right order for our animation."
   ]
  },
  {
   "cell_type": "code",
   "execution_count": null,
   "metadata": {
    "id": "0ZGthASmDA3Q"
   },
   "outputs": [],
   "source": [
    "class Simulation(Simulation):\n",
    "  def addObject(self, ptList, velocity, frameVelo):\n",
    "    self.objects.append(ptList)\n",
    "    self.velocieis.append(velocity)\n",
    "    self.frameVelocity.append(frameVelo)\n",
    "\n",
    "  def addPt(self, fVec, velocity, frameVelo):\n",
    "    self.objects.append([fVec])\n",
    "    self.velocieis.append(velocity)\n",
    "    self.frameVelocity.append(frameVelo)\n",
    "\n",
    "  def addLine(self, startPt, L, velocity, frameVelo, doX, t):\n",
    "    line = [[t,startPt[0], startPt[1]]]\n",
    "    if(doX):\n",
    "      line.append([t, startPt[0] + L, startPt[1]])\n",
    "    if(not doX):\n",
    "      line.append([t, startPt[0], startPt[1] + L])\n",
    "    self.objects.append(line)\n",
    "    self.velocieis.append(velocity)\n",
    "    self.frameVelocity.append(frameVelo)\n",
    "\n",
    "  def addTrain(self, bottomLeft, L, H, velocity, frameVelo, t):\n",
    "    startPt = bottomLeft\n",
    "    train = [[t, bottomLeft[0], bottomLeft[1]], [t, startPt[0] + L, startPt[1]], \\\n",
    "    [t, startPt[0] + L, startPt[1] + H], [t, startPt[0], startPt[1] + H], [t, bottomLeft[0], bottomLeft[1]]]\n",
    "\n",
    "    self.objects.append(train)\n",
    "    self.velocieis.append(velocity)\n",
    "    self.frameVelocity.append(frameVelo)\n",
    "\n",
    "  def addPerson(self, pos, velocity, frameVelo, size,t):\n",
    "    h = 0.5 * size\n",
    "\n",
    "    person = [[t,pos[0],pos[1]], [t, pos[0] + 0.5 * h, pos[1]], [t,pos[0] + 0.5 * h, pos[1] + h],\\\n",
    "              [t, pos[0] - 0.5 * h, pos[1]+h], [t,pos[0] - 0.5 * h, pos[1]], [t,pos[0],pos[1]],\n",
    "              [t,pos[0] + 0.5 * h, pos[1] - 1.5 * h], [t,pos[0] - 0.5 * h, pos[1] - 1.5 * h]]\n",
    "\n",
    "    self.objects.append(person)\n",
    "    self.velocieis.append(velocity)\n",
    "    self.frameVelocity.append(frameVelo)\n",
    "\n",
    "  def addEvent(self,event, fVelo):\n",
    "    self.events.append(event)\n",
    "    self.eventVelos.append(fVelo)\n",
    "\n",
    "  #A pulse is like a clock, where very dT seconds it adds an event\n",
    "  def addPulse(self, pt, dT, Ts, Tend, frameVelo):\n",
    "    range = np.linspace(Ts, Tend, dT, endpoint = True)\n",
    "    for i in range:\n",
    "      self.events.append([i, pt[0], pt[1]])\n",
    "      self.eventVelos.append(frameVelo)"
   ]
  },
  {
   "cell_type": "markdown",
   "metadata": {
    "id": "_eM6vUbMe7-7"
   },
   "source": [
    "### c). Switching Frames\n",
    "\n",
    "Now, some helper functions to help switch frame\n",
    "\n",
    "Some notes on the functions:\n",
    "`getGamma` returns the gamma value for the given velocity\n",
    "\n",
    "`lorentzTransformPt` transforms a 4 vector from from S to frame S' where S' is traveling at V w.r.t S\n",
    "\n",
    "'addVelocities' Returns the velocity of an object moving at `objectVelo` in Frame 1 moving at `Vf1` w.r.t the ground frame into Frame 2 moving at `Vf2` w.r.t the ground frame.\n",
    "To do this, we will use lorentzTranformPt to transform the velocity 4-Vector from Frame 1 to the ground frame then to Frame 2.\n",
    "\n",
    "`lorentzTransformObject` applys a lorenz transformation to every point in the object at a given time t and returns a new 4 vector with all the points. The main purpose of this function is to help with `getEOM`\n",
    "Note: in the new frame, all the points may not be at the same time, which is why this is just a helper function.\n",
    "\n",
    "`getEOM` will return the EOM for an object, i.e. the x and y position as a function of the proper time. It takes an object traveling at objectVelo in Frame 1 which is moving at Vf1 w.r.t the ground frame. It returns the equations of motion, in the same order (which will be linear because everything has constant velocity) as a function of the proper time in Frame 2.\n",
    "\n",
    "The EOMs are returned in the following form: If the EOMs are $$x = at + b$$ $$y = ct + d$$\n",
    "For point n, then `getEOM` will return a vector where `vec[n-1]` stores `[[a,b],[c,d]]`"
   ]
  },
  {
   "cell_type": "code",
   "execution_count": null,
   "metadata": {
    "id": "SAaXEuvgEoUj"
   },
   "outputs": [],
   "source": [
    "#Where Vf is relative to the ground grame\n",
    "def getGamma(Vf):\n",
    "  return (1 - Vf[0] * Vf[0] - Vf[1] * Vf[1]) ** (-0.5)\n",
    "\n",
    "\n",
    "\n",
    "def lorentzTranformPt(fourVec, V):\n",
    "  newFourVec = np.array(fourVec)\n",
    "  g = getGamma(V)\n",
    "  bx = V[0]\n",
    "  by = V[1]\n",
    "  g2 = g**2/(1 + g)\n",
    "  LTMat = np.array([\n",
    "      [g, -g * bx, -g * by],\n",
    "      [-g * bx, 1 + g2 * bx * bx, g2 * bx * by],\n",
    "      [-g * by, g2 * bx * by, 1 + g2 * by * by]\n",
    "  ])\n",
    "  return LTMat @ newFourVec\n",
    "\n",
    "\n",
    "#Vf1, Vf2 are relative to the ground frame\n",
    "#We are assuming that the object is in frame 1\n",
    "#Returns the velocity of object in Vf2\n",
    "def addVelocities(objectVelo, Vf1, Vf2):\n",
    "  gamma = getGamma(objectVelo)\n",
    "  Vvec = [gamma, gamma * objectVelo[0], gamma * objectVelo[1]]\n",
    "  #Using -Vf1 since Frame 1 is moving at Vf1 wrt the ground, so the ground is\n",
    "  #moving at -Vf1 wrt Frame 1\n",
    "  GroundVec = lorentzTranformPt(Vvec, [-1 * Vf1[0], -1 * Vf1[1]])\n",
    "  Frame2Vec = lorentzTranformPt(GroundVec, Vf2)\n",
    "  return [Frame2Vec[1]/Frame2Vec[0], Frame2Vec[2]/Frame2Vec[0]]\n",
    "\n",
    "def lorentzTransformObject(Object, V):\n",
    "  newObject4Vectors = []\n",
    "  for pt in Object:\n",
    "    newFVec = lorentzTranformPt(pt, V)\n",
    "    newObject4Vectors.append(newFVec)\n",
    "  return newObject4Vectors\n",
    "\n",
    "\n",
    "def getEOM(Object, objectVelo, Vf1, Vf2):\n",
    "\n",
    "  Vf1wrtVf2 = addVelocities([0,0], Vf1, Vf2)\n",
    "  #We are using Vf1wrtVf2 since we are treating every endpoint of Object1 as\n",
    "  #a point in spacetime, so it has a coordinate in Frame 1, which we transform\n",
    "  #to frame 2. Then, we wait a few seconds and then transform the object to\n",
    "  #frame 2. This gives us two points in frame 2 we can interpolate\n",
    "\n",
    "  #We shoudln't run into any issues with similenatity since points on the two\n",
    "  #Events will be timelikely separated\n",
    "  Object1 = lorentzTransformObject(Object, Vf1wrtVf2)\n",
    "  dT = 1\n",
    "  Object2 = []\n",
    "  for pt in Object:\n",
    "    newPt = [pt[0] + dT, pt[1] + dT * objectVelo[0], pt[2] + dT*objectVelo[1]]\n",
    "    Object2.append(newPt)\n",
    "  Object2 = lorentzTransformObject(Object2, Vf1wrtVf2)\n",
    "\n",
    "  EOMS = []\n",
    "  for i in range(len(Object1)):\n",
    "    Tps = [Object1[i][0], Object2[i][0]]\n",
    "    Xps = [Object1[i][1], Object2[i][1]]\n",
    "    Yps = [Object1[i][2], Object2[i][2]]\n",
    "\n",
    "    xLine = np.polyfit(np.array(Tps), np.array(Xps), 1)\n",
    "    yLine = np.polyfit(np.array(Tps), np.array(Yps), 1)\n",
    "    EOMS.append([xLine, yLine])\n",
    "  return EOMS\n"
   ]
  },
  {
   "cell_type": "markdown",
   "metadata": {
    "id": "0B18Q2bphMY1"
   },
   "source": [
    "Some code for testing stuff"
   ]
  },
  {
   "cell_type": "code",
   "execution_count": null,
   "metadata": {
    "colab": {
     "base_uri": "https://localhost:8080/"
    },
    "executionInfo": {
     "elapsed": 9,
     "status": "ok",
     "timestamp": 1747068293253,
     "user": {
      "displayName": "Albert Han",
      "userId": "13395316309963998453"
     },
     "user_tz": 300
    },
    "id": "10XO3tedhLKX",
    "outputId": "df18cd74-cf60-448b-e876-86e8428828b6"
   },
   "outputs": [
    {
     "name": "stdout",
     "output_type": "stream",
     "text": [
      "1.0\n",
      "[np.float64(0.0), np.float64(0.8)]\n",
      "[np.float64(0.8), np.float64(0.0)]\n",
      "[np.float64(0.5), np.float64(0.0)]\n",
      "[np.float64(0.859375), np.float64(0.0)]\n",
      "[np.float64(0.9944751381215468), np.float64(0.0)]\n"
     ]
    }
   ],
   "source": [
    "print(getGamma([0,0]))\n",
    "print(addVelocities([0,0.5], [0,0], [0,-0.5])) #\n",
    "print(addVelocities([0.5,0], [0,0], [-0.5,0])) #\n",
    "print(addVelocities([0,0], [0,0], [-0.5,0])) #\n",
    "print(addVelocities([0.7,0], [0.4,0], [0,0])) #\n",
    "print(addVelocities([0.9,0], [0.9,0], [0,0])) #"
   ]
  },
  {
   "cell_type": "markdown",
   "metadata": {
    "id": "ybNptMwqe_FY"
   },
   "source": [
    "### d). Running the Simulation\n",
    "\n",
    "Now, to actually run the simulation. To do this, we will make some simplifying assumptions for our model. Every object added has a constant velocity (something usually done in intro relativity). However, this is useful because this means that the velocity of every object is constant in every frame! This allows us to cacluate two points in each objects space time path, and linearly interpolate for any frame. The high level overview is as follows:\n",
    "\n",
    "\n",
    "\n",
    "1.   The fuction, `runSimulation(frameVelocity, dT, Ts, Tend, condition)` takes the velocity of the frame, the time step, the total time, and a condition to stop at\n",
    "2. Transform the coordinates and velocities of every object and event to the given frame, using the helper functions above\n",
    "3.  Generate an equation for the position of the object, as a function of the proper time.\n",
    "4. Get as many points as neccesary, this part will just consist of plugging everything into the equation.\n",
    "\n",
    "Some caveats to this method are we can't have dicontinuous changes in velocity, ex, starting and stoppping. To fix this, we can splice multiple animations together (Making sure our frames are consistent).\n",
    "To do this, we can stop our simulation until a condition, read out the values (in a single frame), change the velocity of and object, and start a new simulation.\n",
    "\n",
    "`condition` will be a function that returns true or false and takes the current time. It can be specified with a lambda function before the simulation is run.\n",
    "For example, if we wanted to stop when an event occured, we can find the space time coordinate of the event beforehand, then have condition return false after the event occurs.\n",
    "\n",
    "The simulation will return an array of points for all the objects. This array will look like `objects[t][i][j][pos]`, where `t` is the time step, `i` is the object number, `j` is the number of each point in the object, and pos is $x$ or $y$. Events will also be stored in this array, and they will have a point for a small time interval (~50 frames after they occur).\n"
   ]
  },
  {
   "cell_type": "code",
   "execution_count": null,
   "metadata": {
    "id": "x8x2shjnKJJq"
   },
   "outputs": [],
   "source": [
    "class Simulation(Simulation):\n",
    "  def runSimulation(self, frameVelocity, dT, Ts, Tend, condition):\n",
    "    newEvents  = []\n",
    "    objectEOMS = []\n",
    "    for i in range(len(self.events)):\n",
    "      relVel = addVelocities([0,0], self.eventVelos[i], frameVelocity)\n",
    "      newEvents.append(lorentzTranformPt(self.events[i], relVel))\n",
    "    for i in range(len(self.objects)):\n",
    "      EOM = getEOM(self.objects[i], self.velocieis[i],\\\n",
    "                   self.frameVelocity[i], frameVelocity)\n",
    "      objectEOMS.append(EOM)\n",
    "\n",
    "    times = []\n",
    "    objects = []\n",
    "    currentT = Ts\n",
    "    while(currentT < Tend and condition(currentT)):\n",
    "      times.append(currentT)\n",
    "      timeStepObjects = []\n",
    "      for EOM in objectEOMS:\n",
    "        currentObject = []\n",
    "        for pt in EOM:\n",
    "          Xpos = pt[0][0] * currentT + pt[0][1]\n",
    "          Ypos = pt[1][0] * currentT + pt[1][1]\n",
    "          vec = [Xpos, Ypos]\n",
    "          currentObject.append(vec)\n",
    "        timeStepObjects.append(currentObject)\n",
    "\n",
    "      for event in newEvents:\n",
    "        if(np.abs(event[0] - currentT) < 10 * dT):\n",
    "          timeStepObjects.append([[event[1], event[2]]])\n",
    "\n",
    "      # times.append(currentT)\n",
    "      objects.append(timeStepObjects)\n",
    "      currentT = currentT + dT\n",
    "\n",
    "    return times, objects\n"
   ]
  },
  {
   "cell_type": "markdown",
   "metadata": {
    "id": "9i5kYIivfDDT"
   },
   "source": [
    "### e). Minkowski Diagrams"
   ]
  },
  {
   "cell_type": "markdown",
   "metadata": {
    "id": "-jy1u7TzKJ7r"
   },
   "source": [
    "Since our simulation can have a lot of points and frames, especially with the objects and since our simulation is 2D (So the minkoski diagram is 3D), were going to make a minkowski diagram class that will plot points and two different spacetime axis.\n",
    "The first frame is assumed to be at rest\n",
    "To plot moving objects, we can tell it to plot multiple points.\n",
    "The objects should be entered in the same format as before, a list of space time coordinates with $(t,x,y)$\n",
    "\n",
    "Just to make the plots easier to see, the Minkowski function will only show the axis if the velocity has a positive x and y component (Since otherwise the axis get squished the other way, and plotting all 8 quadrants is hard to see)"
   ]
  },
  {
   "cell_type": "code",
   "execution_count": null,
   "metadata": {
    "colab": {
     "base_uri": "https://localhost:8080/",
     "height": 440
    },
    "executionInfo": {
     "elapsed": 367,
     "status": "ok",
     "timestamp": 1747068293778,
     "user": {
      "displayName": "Albert Han",
      "userId": "13395316309963998453"
     },
     "user_tz": 300
    },
    "id": "b7KtPybhY9k3",
    "outputId": "332184be-4552-4039-c9d0-b94231babb4f"
   },
   "outputs": [
    {
     "data": {
      "image/png": "[encoded data removed]",
      "text/plain": [
       "<Figure size 640x480 with 1 Axes>"
      ]
     },
     "metadata": {},
     "output_type": "display_data"
    }
   ],
   "source": [
    "def Minkowski(frame2Velo, frame1Objects, frame2Objects, Ielev=30, Iazi=45):\n",
    "  vPar = frame2Velo\n",
    "  vPerp = np.array([0, frame2Velo[1], -1 * frame2Velo[0]])\n",
    "  vMag = (vPar[0] * vPar[0] + vPar[1] * vPar[1])** 0.5\n",
    "  vUnit = np.array(vPar)/vMag\n",
    "\n",
    "  vPerpUnit = vPerp/vMag\n",
    "  vParUnit = np.array(vPar)/vMag\n",
    "\n",
    "\n",
    "  newTime = np.array([1, vPar[0], vPar[1]])\n",
    "  newV = np.array([vMag, vUnit[0], vUnit[1]])\n",
    "\n",
    "  tUnit = newTime/(np.linalg.norm(newTime))\n",
    "  vUnit = newV/np.array(np.linalg.norm(newV))\n",
    "  Uprime =  ( (1 + vMag ** 2) /(1 - vMag**2 ) ) ** 0.5\n",
    "  tUnit = Uprime * tUnit\n",
    "  vUnit = Uprime * vUnit\n",
    "\n",
    "  newX = (vParUnit[0]  * vUnit + vParUnit[1] * vPerpUnit)\n",
    "  newY = (vParUnit[1] * vUnit - vParUnit[0] * vPerpUnit )\n",
    "  newT = tUnit\n",
    "\n",
    "  xAxis = []\n",
    "  yAxis = []\n",
    "  tAxis = []\n",
    "  for i in range(50):\n",
    "    xAxis.append(newX * i)\n",
    "    yAxis.append(newY * i)\n",
    "    tAxis.append(newT * i)\n",
    "  xAxis = np.array(xAxis)\n",
    "  yAxis = np.array(yAxis)\n",
    "  tAxis = np.array(tAxis)\n",
    "\n",
    "  newFrame2 = []\n",
    "  for obj in frame2Objects:\n",
    "    objArr = []\n",
    "    for pt in obj:\n",
    "      newPt = pt[0] * newT + pt[1] * newX + pt[2] * newY\n",
    "      objArr.append(newPt)\n",
    "    newFrame2.append(objArr)\n",
    "  newFrame2 = np.array(newFrame2)\n",
    "\n",
    "\n",
    "  Axis = np.linspace(0,50, 50)\n",
    "  Zeros = np.zeros(50)\n",
    "\n",
    "  #Plotting\n",
    "  fig = plt.figure()\n",
    "  ax = fig.add_subplot(projection='3d')\n",
    "  ax.set_xlim(0, 50)\n",
    "  ax.set_ylim(0, 50)\n",
    "  ax.set_zlim(0, 50)\n",
    "  ax.plot(Axis, Zeros, Zeros, label = \"x\", color = \"dodgerblue\")\n",
    "  ax.plot(Zeros, Axis, Zeros, label = \"y\", color = \"deepskyblue\")\n",
    "  ax.plot(Zeros, Zeros, Axis, label = \"t\", color = \"lightskyblue\")\n",
    "\n",
    "  ax.plot(xAxis[:,1], xAxis[:,2], xAxis[:,0], label = \"x'\", color = \"red\")\n",
    "  ax.plot(yAxis[:,1], yAxis[:,2], yAxis[:,0], label = \"y'\" , color = \"firebrick\")\n",
    "  ax.plot(tAxis[:,1], tAxis[:,2], tAxis[:,0], label = \"t'\" , color = \"salmon\")\n",
    "\n",
    "  for obj in frame1Objects:\n",
    "    obj = np.array(obj)\n",
    "    ax.plot(obj[:,0], obj[:,1], obj[:,2], 'o', markersize = 2)\n",
    "\n",
    "  for obj in newFrame2:\n",
    "    obj = np.array(obj)\n",
    "    ax.plot(obj[:,0], obj[:,1], obj[:,2], 'o', markersize = 2)\n",
    "\n",
    "\n",
    "  ax.legend()\n",
    "\n",
    "\n",
    "\n",
    "\n",
    "  ax.view_init(elev=Ielev, azim=Iazi)\n",
    "  plt.title(\"Minkowski Diagram\")\n",
    "  plt.show()\n",
    "\n",
    "Minkowski([0.5, 0.5] , [[[10,10,10], [15,10,10], [20,10,10]], [[5,20,20]]], [[[15,15,15]] ], 30, 25)"
   ]
  },
  {
   "cell_type": "markdown",
   "metadata": {
    "id": "tKNEAkrNEy07"
   },
   "source": [
    "### f). Animation"
   ]
  },
  {
   "cell_type": "markdown",
   "metadata": {
    "id": "bmQjWIA8NcLf"
   },
   "source": [
    "Finally, its time to animate! Animation will take a list of simulations, all of which are outputs from runSimulation. It takes a list so we can stitch together multiple simulations to get discontinuties in the velocity.\n",
    "\n",
    "Note: for the stitching to work properly, the objects must be in the same order in all simulations."
   ]
  },
  {
   "cell_type": "code",
   "execution_count": null,
   "metadata": {
    "id": "0NyvqjG0rS1r"
   },
   "outputs": [],
   "source": [
    "#This animaition code is based off the chaos assignment\n",
    "#plotlimits[0] - xmin, xmax, ymin, ymax\n",
    "#This is so lenth contraction will properly show\n",
    "def RelatavisticAnimation(simulations, plotLimits, title):\n",
    "    maxObjectNum = 0\n",
    "    AllSimulations = []\n",
    "    for simulation in simulations:\n",
    "      for timeStep in simulation:\n",
    "        AllSimulations.append(timeStep)\n",
    "        if(len(timeStep) > maxObjectNum):\n",
    "          maxObjectNum = len(timeStep)\n",
    "    fig, ax = plt.subplots()\n",
    "    ax.set_xlim(plotLimits[0],plotLimits[1])\n",
    "    ax.set_ylim(plotLimits[2],plotLimits[3])\n",
    "    plt.title(title)\n",
    "    lines=[]\n",
    "    for i in range(maxObjectNum):\n",
    "        line, = ax.plot([], [], '-', marker='o')\n",
    "        lines.append(line)\n",
    "\n",
    "    def update(i, AllSimulations,lines, maxObjNum):\n",
    "        currentTs = AllSimulations[i]\n",
    "        for j in range(maxObjNum):\n",
    "          if(j < len(currentTs)):\n",
    "            obj = np.array(currentTs[j])\n",
    "            lines[j].set_data(obj[:,0],obj[:,1])\n",
    "\n",
    "          else:\n",
    "            lines[j].set_data([], [])\n",
    "\n",
    "        return lines\n",
    "    ll=1\n",
    "\n",
    "    ani = animation.FuncAnimation(fig, update, len(AllSimulations), fargs=[AllSimulations, lines, maxObjectNum],\n",
    "                      interval=20, blit=True,repeat=False)\n",
    "    plt.close()\n",
    "    return ani"
   ]
  },
  {
   "cell_type": "code",
   "execution_count": null,
   "metadata": {
    "id": "lMFpwKxNtyEU"
   },
   "outputs": [],
   "source": [
    "def trueCond(t):\n",
    "  return True"
   ]
  },
  {
   "cell_type": "code",
   "execution_count": null,
   "metadata": {
    "id": "qMkqCyFfsOPF"
   },
   "outputs": [],
   "source": [
    "sim = Simulation()\n",
    "sim.addLine([0,0], 5, [0,0], [-0.99,0], True, 0)\n",
    "sim.addLine([0,1], 5, [0,0], [-0.5,0], True, 0)\n",
    "sim.addLine([-1,0], 5, [0,0], [-0.5,0], False, 0)\n",
    "times, output = sim.runSimulation([0,0.1], 0.1, 0,10,trueCond)"
   ]
  },
  {
   "cell_type": "markdown",
   "metadata": {
    "id": "zVbY825m8jC5"
   },
   "source": [
    "Heres a basic test of length contraction, **It Works!**"
   ]
  },
  {
   "cell_type": "code",
   "execution_count": null,
   "metadata": {
    "id": "FCjGrbjshnQq"
   },
   "outputs": [],
   "source": [
    "plotLimts = [-5, 10 , -6 ,6]\n",
    "ani=RelatavisticAnimation([output], plotLimts, \"Testing\")\n",
    "HTML(ani.to_jshtml())\n",
    "ani.save('test.gif',writer='pillow',fps=30)"
   ]
  },
  {
   "cell_type": "markdown",
   "metadata": {
    "id": "gwmBH1RXdHot"
   },
   "source": [
    "# 2. The Fundamental Effects:"
   ]
  },
  {
   "cell_type": "markdown",
   "metadata": {
    "id": "4HZ5iw0X9QBV"
   },
   "source": [
    "Now, its time for the classic experiments, starting with Time Dialation. For this, we won't use laser pulses (since it would be too hard to animate), instead, we'll show a relatavistic \"train\" (visualized with a box) with a clock which will fire a pulse at consistent intervals. (green dot)\n",
    "\n",
    "Note the origin is the blue dot."
   ]
  },
  {
   "cell_type": "markdown",
   "metadata": {
    "id": "Z2goyX47fIDL"
   },
   "source": [
    "### a). Time dialation\n",
    "\n",
    "\n",
    "\n"
   ]
  },
  {
   "cell_type": "code",
   "execution_count": null,
   "metadata": {
    "id": "qmBwHr8v5C3-"
   },
   "outputs": [],
   "source": [
    "TDsim = Simulation()\n",
    "pt = np.array([0,0])\n",
    "frame_velo = np.array([0.8,0])\n",
    "TDsim.addPulse(pt, 3, 5, 15,frame_velo)\n",
    "TDsim.addTrain([-1,-1], 2,2,[0,0],frame_velo, 0)\n",
    "\n",
    "TDtimes, TDout = TDsim.runSimulation(frame_velo, 0.1, 0 , 20,trueCond)"
   ]
  },
  {
   "cell_type": "code",
   "execution_count": null,
   "metadata": {
    "id": "Sc3bA_ad5EGV"
   },
   "outputs": [],
   "source": [
    "plotLimts = [-20, 20, -5, 5]\n",
    "ani=RelatavisticAnimation([TDout], plotLimts, \"Moving Uniform Pulse in Pulse Frame\")\n",
    "HTML(ani.to_jshtml())\n",
    "ani.save('Moving Uniform Pulse in Pulse Frame.gif',writer='pillow',fps=30)"
   ]
  },
  {
   "cell_type": "code",
   "execution_count": null,
   "metadata": {
    "id": "rGD4O0Mj9y7l"
   },
   "outputs": [],
   "source": [
    "TDtimes2, TDout2 = TDsim.runSimulation([0,0], 0.1, 0 , 20,trueCond)\n",
    "plotLimts = [-20, 20, -5, 5]\n",
    "ani=RelatavisticAnimation([TDout2], plotLimts, \"Moving Uniform Pulse in Ground Frame\")\n",
    "HTML(ani.to_jshtml())\n",
    "ani.save('Moving Uniform Pulse in Ground Frame.gif',writer='pillow',fps=30)"
   ]
  },
  {
   "cell_type": "markdown",
   "metadata": {
    "id": "FJnkQNNBVuO1"
   },
   "source": [
    "Testing for a Light Moving Up and Down"
   ]
  },
  {
   "cell_type": "code",
   "execution_count": null,
   "metadata": {
    "id": "UwFg3G-PXdIr"
   },
   "outputs": [],
   "source": [
    "class Simulation(Simulation):\n",
    "  def addLightBounce(self, pt,dT, Ts, Tend, frameVelo):\n",
    "    # range = np.linspace(Ts, Tend, dT, endpoint = True)\n",
    "    range = np.arange(Ts,Tend+dT, dT)\n",
    "    y = pt[1]\n",
    "    direction = 1.0 ##up\n",
    "    for i in range: #Create a piece-wise function for the light boucing\n",
    "      if(y>=1 or y>0.999):\n",
    "        y = 1.0\n",
    "        direction = -1.0\n",
    "      elif(y<=-1 or y<=-0.999):\n",
    "        y = -1.0\n",
    "        direction = 1.0\n",
    "      self.events.append([i, pt[0], y])\n",
    "      self.eventVelos.append(frameVelo)\n",
    "      y = y+ direction*dT\n",
    "\n",
    "  def runSimulationLight(self, frameVelocity, dT, Ts, Tend, condition):\n",
    "    newEvents  = []\n",
    "    objectEOMS = []\n",
    "    for i in range(len(self.events)):\n",
    "      relVel = addVelocities([0,0], self.eventVelos[i], frameVelocity)\n",
    "      newEvents.append(lorentzTranformPt(self.events[i], relVel))\n",
    "    for i in range(len(self.objects)):\n",
    "      EOM = getEOM(self.objects[i], self.velocieis[i],\\\n",
    "                   self.frameVelocity[i], frameVelocity)\n",
    "      objectEOMS.append(EOM)\n",
    "\n",
    "    times = []\n",
    "    objects = []\n",
    "    currentT = Ts\n",
    "    while(currentT < Tend and condition(currentT)):\n",
    "      times.append(currentT)\n",
    "      timeStepObjects = []\n",
    "      for EOM in objectEOMS:\n",
    "        currentObject = []\n",
    "        for pt in EOM:\n",
    "          Xpos = pt[0][0] * currentT + pt[0][1]\n",
    "          Ypos = pt[1][0] * currentT + pt[1][1]\n",
    "          vec = [Xpos, Ypos]\n",
    "          currentObject.append(vec)\n",
    "        timeStepObjects.append(currentObject)\n",
    "\n",
    "      for event in newEvents:\n",
    "        if(np.abs(event[0] - currentT) < 0.8 * dT):\n",
    "          timeStepObjects.append([[event[1], event[2]]])\n",
    "\n",
    "      # times.append(currentT)\n",
    "      objects.append(timeStepObjects)\n",
    "      currentT = currentT + dT\n",
    "\n",
    "    return times, objects"
   ]
  },
  {
   "cell_type": "code",
   "execution_count": null,
   "metadata": {
    "id": "0419VXnXVtp4"
   },
   "outputs": [],
   "source": [
    "TDsim = Simulation()\n",
    "pt = np.array([0,-1])\n",
    "frame_velo = np.array([0.0,0.0])\n",
    "TDsim.addLightBounce(pt, 0.1, 0, 12,frame_velo)\n",
    "TDsim.addTrain([-1,-1], 2,2,[0,0],frame_velo, 0)\n",
    "\n",
    "TDtimes, TDout = TDsim.runSimulationLight([0.0,0.0], 0.1, 0 , 12,trueCond)"
   ]
  },
  {
   "cell_type": "code",
   "execution_count": null,
   "metadata": {
    "id": "Jamp74zfV0f4"
   },
   "outputs": [],
   "source": [
    "plotLimts = [-20, 20, -5, 5]\n",
    "ani=RelatavisticAnimation([TDout], plotLimts, \"Moving Uniform Pulse in Pulse Frame\")\n",
    "HTML(ani.to_jshtml())\n",
    "ani.save('Multiple_pulse.gif',writer='pillow',fps=30)"
   ]
  },
  {
   "cell_type": "code",
   "execution_count": null,
   "metadata": {
    "id": "70E7TN2XSRN_"
   },
   "outputs": [],
   "source": [
    "TDsim = Simulation()\n",
    "pt = np.array([0,-1])\n",
    "frame_velo = np.array([0.0,0.0])\n",
    "TDsim.addLightBounce(pt, 0.1, 0, 20,frame_velo)\n",
    "TDsim.addTrain([-1,-1], 2,2,[0,0],frame_velo, 0)\n",
    "\n",
    "TDtimes, TDout = TDsim.runSimulationLight([0.8,0.0], 0.1, 0 , 20,trueCond)\n",
    "plotLimts = [-20, 20, -5, 5]\n",
    "ani=RelatavisticAnimation([TDout], plotLimts, \"Moving Uniform Pulse in Observer on Ground Frame\")\n",
    "HTML(ani.to_jshtml())\n",
    "ani.save('Multiple Uniform Pulse.gif',writer='pillow',fps=30)"
   ]
  },
  {
   "cell_type": "markdown",
   "metadata": {
    "id": "pwDqGeN6-DXp"
   },
   "source": [
    "As we can see, the pulse looks slower in the ground frame. We also only see two pulses in the same proper time (and we also see the train length contracted!)"
   ]
  },
  {
   "cell_type": "markdown",
   "metadata": {
    "id": "M_lM-wk2fKgL"
   },
   "source": [
    "### b). Length Contraction\n",
    "\n",
    "Now for length contraction. We'll show a few fixed length rods moving at different speeds. The blue point is the origin and all the rods have the same proper length.\n",
    "\n",
    "All the rods have proper length $5c * s$, but they are going at different speeds"
   ]
  },
  {
   "cell_type": "code",
   "execution_count": null,
   "metadata": {
    "id": "4W4cHL-bvkG8"
   },
   "outputs": [],
   "source": [
    "LCsim = Simulation()\n",
    "LCsim.addLine([0,0], 5, [0,0], [-0.99,0], True, 0)\n",
    "LCsim.addLine([0,1], 5, [0,0], [-0.5,0], True, 0)\n",
    "LCsim.addLine([0,2], 5, [0,0], [0.5,0], True, 0)\n",
    "LCtimes, LCoutput = LCsim.runSimulation([0,0], 0.1, 0,10,trueCond)"
   ]
  },
  {
   "cell_type": "markdown",
   "metadata": {
    "id": "uvz4HPCiwGcU"
   },
   "source": [
    "The orange rod is moving at $0.99c$ and the other two are moving at $\\pm 0.5c$ respectively"
   ]
  },
  {
   "cell_type": "code",
   "execution_count": null,
   "metadata": {
    "id": "t65w88YMv8rm"
   },
   "outputs": [],
   "source": [
    "plotLimts = [-5, 10 , -2 ,3]\n",
    "ani=RelatavisticAnimation([LCoutput], plotLimts, \"Length Contraction Simulation: Frame is stationary w.r.t the ground frame \")\n",
    "HTML(ani.to_jshtml())\n",
    "ani.save('Length Contraction.gif',writer='pillow',fps=30)"
   ]
  },
  {
   "cell_type": "markdown",
   "metadata": {
    "id": "agAYsp0xw7aH"
   },
   "source": [
    "Now, in a moving frame, going at $0.5c$"
   ]
  },
  {
   "cell_type": "code",
   "execution_count": null,
   "metadata": {
    "id": "62Eqzigyw93Y"
   },
   "outputs": [],
   "source": [
    "LCtimes2, LCoutput2 = LCsim.runSimulation([0.5,0], 0.1, 0,10,trueCond)\n",
    "plotLimts = [-5, 10 , -2 ,3]\n",
    "ani=RelatavisticAnimation([LCoutput2], plotLimts, \"Length Contraction Simulation: Frame is moving at 0.5c w.r.t the ground frame \")\n",
    "HTML(ani.to_jshtml())\n",
    "ani.save('Length Contraction Moving Frame.gif',writer='pillow',fps=30)"
   ]
  },
  {
   "cell_type": "markdown",
   "metadata": {
    "id": "gbVO3yfCyAgE"
   },
   "source": [
    "We can also see that transverse length contraction doesn't exist"
   ]
  },
  {
   "cell_type": "code",
   "execution_count": null,
   "metadata": {
    "id": "Jr0XsQkGzHvs"
   },
   "outputs": [],
   "source": [
    "LCsim2 = Simulation()\n",
    "LCsim2.addLine([0,0], 5, [0,0], [0,0], False, 0)\n",
    "LCsim2.addLine([1,0], 5, [0,0], [-0.5,0], False, 0)\n",
    "LCtimes3, LCoutput3 = LCsim2.runSimulation([0,0], 0.1, 0,10,trueCond)\n",
    "plotLimts = [-5, 10 , -2 ,7]\n",
    "ani=RelatavisticAnimation([LCoutput3], plotLimts, \"Transverse Length Contraction Simulation: Frame Stationary\")\n",
    "HTML(ani.to_jshtml())\n",
    "ani.save('Vertical Length Contraction.gif',writer='pillow',fps=30)"
   ]
  },
  {
   "cell_type": "markdown",
   "metadata": {
    "id": "dR370ChzfNF1"
   },
   "source": [
    "### c). Loss of Simultaneity"
   ]
  },
  {
   "cell_type": "markdown",
   "metadata": {
    "id": "FqPnKSKG0LPP"
   },
   "source": [
    "For this simulation, we will have two events similtaneous in the ground frame, and show that they happen at different times in every other frame. Blue is again the origin and the red and green points are two different events. These events will occur in another \"train\"."
   ]
  },
  {
   "cell_type": "code",
   "execution_count": null,
   "metadata": {
    "id": "Z98XGD3c0ckG"
   },
   "outputs": [],
   "source": [
    "LoSSim = Simulation()\n",
    "LoSSim.addEvent([1,1,0], [0,0])\n",
    "LoSSim.addEvent([1,5,0], [0,0])\n",
    "LoSSim.addTrain([-1,-1], 7,2,[0,0],[0,0], 0)\n",
    "LoSTime, LoSOutput = LoSSim.runSimulation([0,0], 0.1, 0,10,trueCond)\n",
    "plotLimts = [-5, 10 , -2 ,2]\n",
    "ani=RelatavisticAnimation([LoSOutput], plotLimts, \"Loss of Simultaneity: Frame Stationary\")\n",
    "HTML(ani.to_jshtml())\n",
    "ani.save('Loss of sim.gif',writer='pillow',fps=30)"
   ]
  },
  {
   "cell_type": "markdown",
   "metadata": {
    "id": "eqstvFtf2Klq"
   },
   "source": [
    "Now, for a different frame. (But now both green are orange because of matplotlib  )"
   ]
  },
  {
   "cell_type": "code",
   "execution_count": null,
   "metadata": {
    "id": "zWefRPug2J_h"
   },
   "outputs": [],
   "source": [
    "LoSTime, LoSOutput = LoSSim.runSimulation([0.5,0], 0.1, 0,10,trueCond)\n",
    "plotLimts = [-5, 10 , -2 ,2]\n",
    "ani=RelatavisticAnimation([LoSOutput], plotLimts, \"Loss of Simultaneity: Frame Moving at 0.5c in x\")\n",
    "HTML(ani.to_jshtml())\n",
    "ani.save('Loss of sim moving frame.gif',writer='pillow',fps=30)"
   ]
  },
  {
   "cell_type": "markdown",
   "metadata": {
    "id": "9Mya0sdS3C9S"
   },
   "source": [
    "We loose simultenaity even if we move in both x and y!"
   ]
  },
  {
   "cell_type": "code",
   "execution_count": null,
   "metadata": {
    "id": "53q87D_H3JRZ"
   },
   "outputs": [],
   "source": [
    "LoSTime, LoSOutput = LoSSim.runSimulation([0.5,0.5], 0.1, 0,10,trueCond)\n",
    "plotLimts = [-5, 10 , -5 ,5]\n",
    "ani=RelatavisticAnimation([LoSOutput], plotLimts, \"Loss of Simultaneity: Frame Moving at 0.5c in x\")\n",
    "HTML(ani.to_jshtml())\n",
    "ani.save('Loss of sim diag.gif',writer='pillow',fps=30)"
   ]
  },
  {
   "cell_type": "markdown",
   "metadata": {
    "id": "nER5G7SFd-Zh"
   },
   "source": [
    "# 3. The Classic Paradoxes"
   ]
  },
  {
   "cell_type": "markdown",
   "metadata": {
    "id": "5cAUG59VfT0f"
   },
   "source": [
    "### a). Pole in a Barn\n",
    "\n",
    "Now, for a classic paradox. Imagine someone (who's really fast) running at relatvastic speeds. They are holding a pole with proper length $L$ and run into a barn with proper length $L$. In the ground frame, the pole fits in the barn because of lenght contraction and close the doors, but in the moving frame, the barn is contracted and the pole is the usual length, so what happens?\n",
    "\n",
    "Lets find out!"
   ]
  },
  {
   "cell_type": "code",
   "execution_count": null,
   "metadata": {
    "id": "_yde3gILd6JH"
   },
   "outputs": [],
   "source": [
    "PoleInBarnSim = Simulation()\n",
    "PoleInBarnSim.addPerson([-10, 0], [0, 0], [-0.85, 0], 0.8, 0)\n",
    "PoleInBarnSim.addLine([-13,0], 6, [0,0], [-0.85, 0], True, 0)\n",
    "PoleInBarnSim.addLine([-3,1], 6, [0,0], [0,0], True, 0)\n",
    "PoleInBarnSim.addLine([-3,-1], 6, [0,0], [0,0], True, 0)\n",
    "PoleInBarnSim.addLine([-3, 5],2, [0,-0.95], [0,0] , False, 0)\n",
    "PoleInBarnSim.addLine([3,5], 2, [0,-0.95],[0,0] , False, 0)"
   ]
  },
  {
   "cell_type": "code",
   "execution_count": null,
   "metadata": {
    "id": "9tVuxuXQfOEL"
   },
   "outputs": [],
   "source": [
    "PoleInBarnSimTime, PoleInBarnSimOutput = PoleInBarnSim.runSimulation([0,0], 0.1, -10,30,trueCond)\n",
    "plotLimts = [-15, 15 , -5 ,5]\n",
    "ani=RelatavisticAnimation([PoleInBarnSimOutput], plotLimts, \"Pole in barn: Ground Frame\")\n",
    "HTML(ani.to_jshtml())\n",
    "ani.save('Pole barn.gif',writer='pillow',fps=30)"
   ]
  },
  {
   "cell_type": "code",
   "execution_count": null,
   "metadata": {
    "id": "FRYx93jPkjeC"
   },
   "outputs": [],
   "source": [
    "PoleInBarnSimTime2, PoleInBarnSimOutput2 = PoleInBarnSim.runSimulation([-0.85,0], 0.1, -10,30,trueCond)\n",
    "plotLimts = [-20, 15 , -5 ,5]\n",
    "ani=RelatavisticAnimation([PoleInBarnSimOutput2], plotLimts, \"Pole in barn: Pole Frame\")\n",
    "HTML(ani.to_jshtml())\n",
    "ani.save('Pole barn pole frame.gif',writer='pillow',fps=30)"
   ]
  },
  {
   "cell_type": "markdown",
   "metadata": {
    "id": "9Eu-IPGClc2K"
   },
   "source": [
    "As we can see, the pole fits in the barn in the stationary frame, but in the movign frame, the barn doors don't close simultaneously!"
   ]
  },
  {
   "cell_type": "markdown",
   "metadata": {
    "id": "C408Thz0ff-T"
   },
   "source": [
    "### b). The Twin Paradox"
   ]
  },
  {
   "cell_type": "markdown",
   "metadata": {
    "id": "fmNIK05Ml_7K"
   },
   "source": [
    "Finally, we will see the twin paradox.\n",
    "\n",
    "Imagine two twins, one which stays on Earth and one who goes on a rocket which goes out to a distant and then comes back to Earth. Each twin sees the other as younger because of time dilation, so when they meet back on Earth, whos older?\n",
    "\n",
    "We will track how hold the twins are by having each twin send uniformly spaced signals in their own frame, and see how many signals each twin sends in an inertial frame."
   ]
  },
  {
   "cell_type": "code",
   "execution_count": null,
   "metadata": {
    "id": "ZNLCwAZR9NEA"
   },
   "outputs": [],
   "source": [
    "TwinParadoxSim = Simulation()\n",
    "###Lets assume the speed of the driver and the lightyears distance\n",
    "D = 8\n",
    "speed_of_rocket = 0.8\n",
    "L = D/speed_of_rocket *2\n",
    "\n",
    "###Stationary\n",
    "TwinParadoxSim.addPt((0.0,0.0,0.0),[0,1],[0,0])\n",
    "for i in range (int(L)):\n",
    "  TwinParadoxSim.addLine([0,i+1], 0.01, [1,1], [0,0], True, i+1)\n",
    "\n",
    "###Moving\n",
    "TwinParadoxSim.addPt((0.0,D,L/2),[0,0],[0,0]) ##This is the planet\n",
    "TwinParadoxSim.addLine([0,0], 0.01, [speed_of_rocket,1], [0,0], True, 0)\n",
    "TwinParadoxSim.addLine([D,L/2], 0.01, [-speed_of_rocket,1], [0,0], True, L/2)\n"
   ]
  },
  {
   "cell_type": "code",
   "execution_count": null,
   "metadata": {
    "id": "uUx4PtdulJNU"
   },
   "outputs": [],
   "source": [
    "TwinParadoxSimTime, TwinParadoxSimOutput = TwinParadoxSim.runSimulation([0,0.0], 0.1, 0,L,trueCond)\n",
    "plotLimits = [-1, D+1 , -1 ,L+1]\n",
    "ani=RelatavisticAnimation([TwinParadoxSimOutput], plotLimits, \"Signals Sent By Twin on Earth\")\n",
    "HTML(ani.to_jshtml())\n",
    "ani.save('Signals Sent By Twin on Earth.gif',writer='pillow',fps=30)"
   ]
  },
  {
   "cell_type": "code",
   "execution_count": null,
   "metadata": {
    "id": "cF2VWGzglWEs"
   },
   "outputs": [],
   "source": [
    "TwinParadoxSim2 = Simulation()\n",
    "###Lets assume the speed of the driver and the lightyears distance\n",
    "D = 8\n",
    "speed_of_rocket = 0.8\n",
    "gamma_rocket = 1/np.sqrt(1-speed_of_rocket**2)\n",
    "L = D/speed_of_rocket *2\n",
    "\n",
    "###Stationary\n",
    "TwinParadoxSim2.addPt((0.0,0.0,0.0),[0,1],[0,0])\n",
    "iter = int(L/gamma_rocket)+1\n",
    "for i in range (int(L/gamma_rocket)+1):\n",
    "  TwinParadoxSim2.addLine([speed_of_rocket*(-np.abs(-iter/2+i+1)+iter/2),(i+1)*gamma_rocket], 0.01, [-1,1], [0,0], True, (i+1)*gamma_rocket)\n",
    "\n",
    "###Moving\n",
    "TwinParadoxSim2.addPt((0.0,D,L/2),[0,0],[0,0]) ##This is the planet\n",
    "TwinParadoxSim2.addLine([0,0], 0.01, [speed_of_rocket,1], [0,0], True, 0)\n",
    "TwinParadoxSim2.addLine([D,L/2], 0.01, [-speed_of_rocket,1], [0,0], True, L/2)\n"
   ]
  },
  {
   "cell_type": "code",
   "execution_count": null,
   "metadata": {
    "id": "TGPdSUN_SLDB"
   },
   "outputs": [],
   "source": [
    "TwinParadoxSimTime2, TwinParadoxSimOutput2 = TwinParadoxSim2.runSimulation([0,0.0], 0.1, 0,L,trueCond)\n",
    "plotLimits = [-1, D+1 , -1 ,L+1]\n",
    "ani=RelatavisticAnimation([TwinParadoxSimOutput2], plotLimits, \"Signals Sent By Twin on SpaceShipe\")\n",
    "HTML(ani.to_jshtml())\n",
    "ani.save('Signals Sent By Twin on SpaceShip.gif',writer='pillow',fps=30)"
   ]
  },
  {
   "cell_type": "markdown",
   "metadata": {
    "id": "kZPJk87rXBxB"
   },
   "source": [
    "As we can see, since the twin on Earth sends more signals, the one on Earth is older!\n",
    "\n",
    "The key is that the spaceship frame is not an inertial, since the spaceship turns around."
   ]
  }
 ],
 "metadata": {
  "colab": {
   "provenance": []
  },
  "kernelspec": {
   "display_name": "Python 3",
   "name": "python3"
  },
  "language_info": {
   "name": "python"
  }
 },
 "nbformat": 4,
 "nbformat_minor": 0
}
